{
 "cells": [
  {
   "cell_type": "markdown",
   "metadata": {
    "pycharm": {
     "name": "#%% md\n"
    }
   },
   "source": [
    "# A crash course to loading and exloring the dataset"
   ]
  },
  {
   "cell_type": "markdown",
   "metadata": {
    "pycharm": {
     "name": "#%% md\n"
    }
   },
   "source": [
    "This notebook will walk you through the basic classes intended for the end use of the module and the dataset.\n",
    "It is written for and tested with dataset version 1.0.0a0 and should be compatible with all 1.0 versions. Please refer to the repository's `README.md` for download instructions. \n",
    "On top of python3.11, you will need jupyter in order to run this notebook at home."
   ]
  },
  {
   "cell_type": "markdown",
   "metadata": {
    "pycharm": {
     "name": "#%% md\n"
    }
   },
   "source": [
    "## Proof Bank and Samples\n",
    "Let us first make the necessary imports and load the dataset:"
   ]
  },
  {
   "cell_type": "code",
   "execution_count": 2,
   "metadata": {
    "pycharm": {
     "name": "#%%\n"
    }
   },
   "outputs": [
    {
     "name": "stdout",
     "output_type": "stream",
     "text": [
      "Loading and verifying aethel.pickle...\n",
      "Loaded æthel dump version 1.0.0a0 containing 68809 samples.\n"
     ]
    }
   ],
   "source": [
    "import LassyExtraction\n",
    "aethel = LassyExtraction.ProofBank.load_data('../data/aethel.pickle')"
   ]
  },
  {
   "cell_type": "markdown",
   "metadata": {
    "pycharm": {
     "name": "#%% md\n"
    }
   },
   "source": [
    "The just initialized `aethel` item is an instance of a `ProofBank`, i.e. a simple container of `Sample` objects.\n",
    "It provides some basic functionality, like a `version` field that specifies the dataset's version and a `__len__` function that returns its size.\n",
    "\n",
    "More importantly, it allows us to retrieve a single `Sample` using standard python indexing."
   ]
  },
  {
   "cell_type": "code",
   "execution_count": 3,
   "metadata": {
    "pycharm": {
     "name": "#%%\n"
    }
   },
   "outputs": [],
   "source": [
    "sample = aethel[2310]"
   ]
  },
  {
   "cell_type": "markdown",
   "metadata": {
    "pycharm": {
     "name": "#%% md\n"
    }
   },
   "source": [
    "`Samples` are identified by their names, which are unique, and consist of 2 parts, a *prefix* (ending in xml) that specifies the name of the source file in Lassy, and (optionally) a *suffix* that alerts us to the fact that the original parse graph has been disassembled into multiple ones during preprocessing (this can happen for a number of reasons, but is mostly due to incomplete or underspecified annotations)."
   ]
  },
  {
   "cell_type": "code",
   "execution_count": 4,
   "metadata": {
    "pycharm": {
     "name": "#%%\n"
    }
   },
   "outputs": [
    {
     "data": {
      "text/plain": [
       "'dpc-svb-000432-nl-sen.p.44.s.2.xml(2)'"
      ]
     },
     "execution_count": 4,
     "metadata": {},
     "output_type": "execute_result"
    }
   ],
   "source": [
    "sample.name"
   ]
  },
  {
   "cell_type": "markdown",
   "metadata": {
    "pycharm": {
     "name": "#%% md\n"
    }
   },
   "source": [
    "We can inspect the raw sentence of the sample via its `sentence` property..."
   ]
  },
  {
   "cell_type": "code",
   "execution_count": 5,
   "metadata": {
    "pycharm": {
     "name": "#%%\n"
    }
   },
   "outputs": [
    {
     "name": "stdout",
     "output_type": "stream",
     "text": [
      "Inkomen dat u in niet-Nederlandse valuta heeft ontvangen , rekent de SVB om naar euro volgens de officiële koers van De Nederlandsche Bank N.V.\n"
     ]
    }
   ],
   "source": [
    "print(sample.sentence)"
   ]
  },
  {
   "cell_type": "markdown",
   "metadata": {
    "pycharm": {
     "name": "#%% md\n"
    }
   },
   "source": [
    " ...and the data subset (train/dev/test) it belongs to via its `subset` property"
   ]
  },
  {
   "cell_type": "code",
   "execution_count": 6,
   "metadata": {
    "pycharm": {
     "name": "#%%\n"
    }
   },
   "outputs": [
    {
     "name": "stdout",
     "output_type": "stream",
     "text": [
      "train\n"
     ]
    }
   ],
   "source": [
    "print(sample.subset)"
   ]
  },
  {
   "cell_type": "markdown",
   "metadata": {
    "pycharm": {
     "name": "#%% md\n"
    }
   },
   "source": [
    "## Lexical Phrases and Items\n",
    "\n",
    "The lexical content of each sample is provided pre-tokenized and chunked by Lassy's annotations.\n",
    "\n",
    "Lexical phrases are stored in the `lexical_phrases` field of a `Sample`. \n",
    "Each `LexicalPhrase` is a wrapper around a\n",
    "* non-empty tuple of `LexicalItems` (*access via `items`*), \n",
    "* for which a `Type` is supplied (*access via `type`*).\n",
    "\n",
    "The full string can be accessed via property `string`, and the len of `LexicalItems` contained via `__len__`."
   ]
  },
  {
   "cell_type": "code",
   "execution_count": 7,
   "metadata": {
    "pycharm": {
     "name": "#%%\n"
    }
   },
   "outputs": [
    {
     "name": "stdout",
     "output_type": "stream",
     "text": [
      "LexicalPhrase(string=ontvangen, type=◇obj1(VNW)⟶PPART, len=1)\n"
     ]
    }
   ],
   "source": [
    "lp7 = sample.lexical_phrases[7]\n",
    "print(lp7)"
   ]
  },
  {
   "cell_type": "markdown",
   "metadata": {
    "pycharm": {
     "name": "#%% md\n"
    }
   },
   "source": [
    "Each `LexicalItem` within a `LexicalPhrase` corresponds to a single word, and comes packed with some rudimentary token-level features. This allows us to assign a single type to multi-word expressions (rather common in Lassy), while still maintaining their token-level annotations."
   ]
  },
  {
   "cell_type": "code",
   "execution_count": 8,
   "metadata": {
    "pycharm": {
     "name": "#%%\n"
    }
   },
   "outputs": [
    {
     "name": "stdout",
     "output_type": "stream",
     "text": [
      "LexicalItem(word='ontvangen', pos='verb', pt='ww', lemma='ontvangen')\n"
     ]
    }
   ],
   "source": [
    "print(lp7.items[0])"
   ]
  },
  {
   "cell_type": "markdown",
   "metadata": {
    "pycharm": {
     "name": "#%% md\n"
    }
   },
   "source": [
    "Most lexical phrases participate in the proof-derivation as lexical constants, typed as specified. \n",
    "\n",
    "Some, however, don't (i.e. those assigned default dependencies, like punctuation symbols) -- which is why their provision *outside* the proof is necessary for sample representation not to be lossy."
   ]
  },
  {
   "cell_type": "markdown",
   "metadata": {
    "pycharm": {
     "name": "#%% md\n"
    }
   },
   "source": [
    "## Proofs, Judgements and Terms\n",
    "\n",
    "The syntactic analysis of each sample resides in its `proof` field, and is a `Proof` object."
   ]
  },
  {
   "cell_type": "code",
   "execution_count": 9,
   "metadata": {
    "pycharm": {
     "name": "#%%\n"
    }
   },
   "outputs": [],
   "source": [
    "proof = sample.proof"
   ]
  },
  {
   "cell_type": "markdown",
   "metadata": {
    "pycharm": {
     "name": "#%% md\n"
    }
   },
   "source": [
    "A `Proof` is an inductive datatype that faithfully mirrors the Natural Deduction presentation of the underlying type theory, i.e. dependency-enhanced Lambek with permutations (or Modal Multiplicative Intuitionistic Linear Logic).\n",
    "\n",
    "It contains three named fields:\n",
    "* `premises` --  a (possibly empty) tuple of premise `Proofs`\n",
    "* `conclusion` -- a conclusion `Judgement`  (*access via `conclusion`*), and \n",
    "* `rule` -- a `Rule`. \n",
    "\n",
    "Where a `Judgement` consists of \n",
    "* a `Structure` of `Variables`(hypothetical elements) and/or `Constants` (lexical constants)\n",
    "\n",
    "For brevity, printing a `Proof` will only print its `conclusion` field.\n"
   ]
  },
  {
   "cell_type": "code",
   "execution_count": 10,
   "metadata": {
    "pycharm": {
     "name": "#%%\n"
    }
   },
   "outputs": [
    {
     "name": "stdout",
     "output_type": "stream",
     "text": [
      "〈c13: ◇obj1(NP)⟶□mod(SMAIN⟶SMAIN), 〈c14: NP〉obj1〉mod, 〈c15: ◇obj1(NP)⟶□mod(SMAIN⟶SMAIN), 〈〈c19: ◇obj1(NP)⟶□mod(NP⟶NP), 〈c20: NP〉obj1〉mod, 〈c16: □det(N⟶NP)〉det, 〈c17: □mod(N⟶N)〉mod, c18: N〉obj1〉mod, c9: ◇svp(VZ)⟶◇obj1(NP)⟶◇su(NP)⟶SMAIN, 〈c12: VZ〉svp, 〈〈c10: □det(N⟶NP)〉det, c11: N〉obj1, 〈〈c1: (◇relcl(◇x(□x(◇obj1(VNW)))⟶SSUB))⟶□mod(NP⟶NP), 〈c6: ◇vc(PPART)⟶◇su(VNW)⟶SSUB, 〈〈c3: ◇obj1(NP)⟶□mod(PPART⟶PPART), 〈〈c4: □mod(NP⟶NP)〉mod, c5: NP〉obj1〉mod, c7: ◇obj1(VNW)⟶PPART〉vc, 〈c2: VNW〉su〉relcl〉mod, c0: NP〉su ⊢ ▾mod(c13 (▵obj1(c14))) (▾mod(c15 (▵obj1(▾mod(c19 (▵obj1(c20))) (▾det(c16) (▾mod(c17) c18))))) (c9 (▵svp(c12)) (▵obj1(▾det(c10) c11)) (▵su(▾mod(c1 (▵relcl(λx0.(c6 (▵vc(▾mod(c3 (▵obj1(▾mod(c4) c5))) (c7 (▾x(▿x(x0)))))) (▵su(c2)))))) c0)))) : SMAIN\n"
     ]
    }
   ],
   "source": [
    "print(proof)"
   ]
  },
  {
   "cell_type": "markdown",
   "metadata": {
    "pycharm": {
     "name": "#%% md\n"
    }
   },
   "source": [
    "Shortcut properties `Proof.structure`, `Proof.type`, `Proof.term` provide access to fields and properties nested in `Proof.conclusion`."
   ]
  },
  {
   "cell_type": "code",
   "execution_count": 11,
   "metadata": {
    "pycharm": {
     "name": "#%%\n"
    }
   },
   "outputs": [
    {
     "name": "stdout",
     "output_type": "stream",
     "text": [
      "SMAIN\n"
     ]
    }
   ],
   "source": [
    "print(proof.type)"
   ]
  },
  {
   "cell_type": "markdown",
   "metadata": {
    "pycharm": {
     "name": "#%% md\n"
    }
   },
   "source": [
    "For a more holistic inspection of a proof, you can use the `LassyExtraction.utils.tex` submodule to cast samples and proofs to compilable tex code:"
   ]
  },
  {
   "cell_type": "code",
   "execution_count": 12,
   "metadata": {
    "pycharm": {
     "name": "#%%\n"
    }
   },
   "outputs": [],
   "source": [
    "from LassyExtraction.utils.tex import sample_to_tex\n",
    "tex_code = sample_to_tex(sample)"
   ]
  },
  {
   "cell_type": "markdown",
   "metadata": {
    "pycharm": {
     "name": "#%% md\n"
    }
   },
   "source": [
    "The tex code can be saved to a file and compiled with `pdflatex`. In ubuntu, you can also invoke the `compile_tex` function directly (if your write your own OS-specific function, feel free to open a pull request)."
   ]
  },
  {
   "cell_type": "code",
   "execution_count": 13,
   "metadata": {
    "pycharm": {
     "name": "#%%\n"
    }
   },
   "outputs": [
    {
     "name": "stdout",
     "output_type": "stream",
     "text": [
      "This is pdfTeX, Version 3.14159265-2.6-1.40.20 (TeX Live 2019/Debian) (preloaded format=pdflatex)\n",
      " restricted \\write18 enabled.\n",
      "entering extended mode\n",
      "(./tmp.tex\n",
      "LaTeX2e <2020-02-02> patch level 2\n",
      "L3 programming layer <2020-02-14>\n",
      "(/usr/share/texlive/texmf-dist/tex/latex/standalone/standalone.cls\n",
      "Document Class: standalone 2018/03/26 v1.3a Class to compile TeX sub-files stan\n",
      "dalone\n",
      "(/usr/share/texlive/texmf-dist/tex/latex/tools/shellesc.sty)\n",
      "(/usr/share/texlive/texmf-dist/tex/generic/iftex/ifluatex.sty\n",
      "(/usr/share/texlive/texmf-dist/tex/generic/iftex/iftex.sty))\n",
      "(/usr/share/texlive/texmf-dist/tex/latex/xkeyval/xkeyval.sty\n",
      "(/usr/share/texlive/texmf-dist/tex/generic/xkeyval/xkeyval.tex\n",
      "(/usr/share/texlive/texmf-dist/tex/generic/xkeyval/xkvutils.tex\n",
      "(/usr/share/texlive/texmf-dist/tex/generic/xkeyval/keyval.tex))))\n",
      "(/usr/share/texlive/texmf-dist/tex/latex/standalone/standalone.cfg)\n",
      "(/usr/share/texlive/texmf-dist/tex/latex/base/article.cls\n",
      "Document Class: article 2019/12/20 v1.4l Standard LaTeX document class\n",
      "(/usr/share/texlive/texmf-dist/tex/latex/base/size10.clo))\n",
      "(/usr/share/texmf/tex/latex/preview/preview.sty\n",
      "(/usr/share/texmf/tex/latex/preview/prtightpage.def)))\n",
      "(/usr/share/texlive/texmf-dist/tex/latex/graphics/color.sty\n",
      "(/usr/share/texlive/texmf-dist/tex/latex/graphics-cfg/color.cfg)\n",
      "(/usr/share/texlive/texmf-dist/tex/latex/graphics-def/pdftex.def))\n",
      "(/usr/share/texlive/texmf-dist/tex/latex/amsmath/amsmath.sty\n",
      "For additional information on amsmath, use the `?' option.\n",
      "(/usr/share/texlive/texmf-dist/tex/latex/amsmath/amstext.sty\n",
      "(/usr/share/texlive/texmf-dist/tex/latex/amsmath/amsgen.sty))\n",
      "(/usr/share/texlive/texmf-dist/tex/latex/amsmath/amsbsy.sty)\n",
      "(/usr/share/texlive/texmf-dist/tex/latex/amsmath/amsopn.sty))\n",
      "(/usr/share/texlive/texmf-dist/tex/latex/lkproof/proof.sty)\n",
      "(/usr/share/texlive/texmf-dist/tex/latex/amsfonts/amssymb.sty\n",
      "(/usr/share/texlive/texmf-dist/tex/latex/amsfonts/amsfonts.sty))\n",
      "(/usr/share/texlive/texmf-dist/tex/latex/base/inputenc.sty)\n",
      "(/usr/share/texlive/texmf-dist/tex/latex/base/fontenc.sty)\n",
      "(/usr/share/texlive/texmf-dist/tex/latex/l3backend/l3backend-pdfmode.def)\n",
      "No file tmp.aux.\n",
      "Preview: Fontsize 10pt\n",
      "Preview: PDFoutput 1\n",
      "(/usr/share/texlive/texmf-dist/tex/context/base/mkii/supp-pdf.mkii\n",
      "[Loading MPS to PDF converter (version 2006.09.02).]\n",
      ") (/usr/share/texlive/texmf-dist/tex/latex/amsfonts/umsa.fd)\n",
      "(/usr/share/texlive/texmf-dist/tex/latex/amsfonts/umsb.fd)\n",
      "Overfull \\hbox (317.09126pt too wide) in paragraph at lines 8--9\n",
      "[][] \n",
      "(/usr/share/texlive/texmf-dist/tex/latex/base/t1cmss.fd)\n",
      "Overfull \\hbox (959.68755pt too wide) detected at line 269\n",
      "[][]\n",
      "Preview: Tightpage -1310720 -1310720 1310720 1310720\n",
      "[1{/var/lib/texmf/fonts/map/pdftex/updmap/pdftex.map}] (./tmp.aux) )\n",
      "(see the transcript file for additional information) </home/kokos/.texlive2019/\n",
      "texmf-var/fonts/pk/ljfour/jknappen/ec/ecss1000.600pk> </home/kokos/.texlive2019\n",
      "/texmf-var/fonts/pk/ljfour/jknappen/ec/ecti1000.600pk> </home/kokos/.texlive201\n",
      "9/texmf-var/fonts/pk/ljfour/jknappen/ec/ecrm1000.600pk></usr/share/texlive/texm\n",
      "f-dist/fonts/type1/public/amsfonts/cm/cmmi10.pfb></usr/share/texlive/texmf-dist\n",
      "/fonts/type1/public/amsfonts/cm/cmmi7.pfb></usr/share/texlive/texmf-dist/fonts/\n",
      "type1/public/amsfonts/cm/cmr10.pfb></usr/share/texlive/texmf-dist/fonts/type1/p\n",
      "ublic/amsfonts/cm/cmr7.pfb></usr/share/texlive/texmf-dist/fonts/type1/public/am\n",
      "sfonts/cm/cmss10.pfb></usr/share/texlive/texmf-dist/fonts/type1/public/amsfonts\n",
      "/cm/cmsy10.pfb></usr/share/texlive/texmf-dist/fonts/type1/public/amsfonts/symbo\n",
      "ls/msam10.pfb>\n",
      "Output written on tmp.pdf (1 page, 95654 bytes).\n",
      "Transcript written on tmp.log.\n"
     ]
    }
   ],
   "source": [
    "from LassyExtraction.utils.tex import compile_tex\n",
    "compile_tex(tex_code)"
   ]
  },
  {
   "cell_type": "markdown",
   "metadata": {
    "pycharm": {
     "name": "#%% md\n"
    }
   },
   "source": [
    "The end result looks like:"
   ]
  },
  {
   "cell_type": "code",
   "execution_count": null,
   "outputs": [],
   "source": [
    "from IPython.display import IFrame\n",
    "IFrame('tmp.pdf', height=600, width=1000,)"
   ],
   "metadata": {
    "collapsed": false,
    "pycharm": {
     "name": "#%%\n"
    }
   }
  },
  {
   "cell_type": "code",
   "execution_count": null,
   "outputs": [],
   "source": [],
   "metadata": {
    "collapsed": false,
    "pycharm": {
     "name": "#%%\n"
    }
   }
  },
  {
   "cell_type": "code",
   "execution_count": 14,
   "metadata": {
    "pycharm": {
     "name": "#%%\n"
    }
   },
   "outputs": [],
   "source": []
  }
 ],
 "metadata": {
  "kernelspec": {
   "display_name": "Python 3 (ipykernel)",
   "language": "python",
   "name": "python3"
  },
  "language_info": {
   "codemirror_mode": {
    "name": "ipython",
    "version": 3
   },
   "file_extension": ".py",
   "mimetype": "text/x-python",
   "name": "python",
   "nbconvert_exporter": "python",
   "pygments_lexer": "ipython3",
   "version": "3.11.0b3"
  }
 },
 "nbformat": 4,
 "nbformat_minor": 1
}